{
 "cells": [
  {
   "cell_type": "markdown",
   "metadata": {},
   "source": [
    "## Ronda 2"
   ]
  },
  {
   "cell_type": "code",
   "execution_count": 178,
   "metadata": {},
   "outputs": [],
   "source": [
    "def sumade2(lista, num): # Toma una lista de valores y el objetivo de las sumas\n",
    "    list_sum = [] # Creo lista vacía para almacenar\n",
    "    for i in range(len(lista)):\n",
    "        for j in range(len(lista)):\n",
    "            if (lista[i]+lista[j] == num):\n",
    "                dupla = sorted([lista[i],lista[j]])\n",
    "                if dupla in list_sum:\n",
    "                    break\n",
    "                else:\n",
    "                    list_sum.append(dupla)  \n",
    "    return(list_sum)\n",
    "\n"
   ]
  },
  {
   "cell_type": "markdown",
   "metadata": {},
   "source": [
    "## Ronda 3"
   ]
  },
  {
   "cell_type": "code",
   "execution_count": 179,
   "metadata": {},
   "outputs": [
    {
     "data": {
      "text/plain": [
       "[0, 1, 1, 2, 3, 5, 8, 13, 21, 34, 55, 89]"
      ]
     },
     "execution_count": 179,
     "metadata": {},
     "output_type": "execute_result"
    }
   ],
   "source": [
    "def fibonacci(n):\n",
    "    fib_list = []\n",
    "    if n < 0:\n",
    "        return fib_list\n",
    "    num1 = 0\n",
    "    num2 = 1\n",
    "    next_number = num2  \n",
    "    while num1 <= n:\n",
    "        fib_list.append(num1)\n",
    "        num1, num2 = num2, next_number\n",
    "        next_number = num1 + num2\n",
    "\n",
    "    return fib_list\n",
    "\n",
    "fibonacci(100)"
   ]
  },
  {
   "cell_type": "markdown",
   "metadata": {},
   "source": [
    "## Ronda 4"
   ]
  },
  {
   "cell_type": "code",
   "execution_count": 188,
   "metadata": {},
   "outputs": [
    {
     "name": "stdout",
     "output_type": "stream",
     "text": [
      "[4, -1, 2, 1], cuya suma es 6\n"
     ]
    }
   ],
   "source": [
    "from sys import maxsize\n",
    "\n",
    "def maxSubArraySum(a):\n",
    "\tmax_so_far = -maxsize - 1\n",
    "\tmax_ending_here = 0\n",
    "\tstart = 0\n",
    "\tend = 0\n",
    "\ts = 0\n",
    "\tsize = len(a)\n",
    "\n",
    "\tfor i in range(size):\n",
    "\n",
    "\t\tmax_ending_here += a[i]\n",
    "\n",
    "\t\tif max_so_far < max_ending_here:\n",
    "\t\t\tmax_so_far = max_ending_here\n",
    "\t\t\tstart = s\n",
    "\t\t\tend = i\n",
    "\n",
    "\t\tif max_ending_here < 0:\n",
    "\t\t\tmax_ending_here = 0\n",
    "\t\t\ts = i+1\n",
    "\tprint(f'{a[start:end+1]}, cuya suma es {max_so_far}')\n",
    "\n",
    "# Driver program to test maxSubArraySum\n",
    "a = [-2, 1, -3, 4, -1, 2, 1, -5, 4]\n",
    "\n",
    "maxSubArraySum(a)\n"
   ]
  },
  {
   "cell_type": "markdown",
   "metadata": {},
   "source": [
    "## Ronda 5"
   ]
  },
  {
   "cell_type": "code",
   "execution_count": 127,
   "metadata": {},
   "outputs": [
    {
     "data": {
      "text/plain": [
       "1"
      ]
     },
     "execution_count": 127,
     "metadata": {},
     "output_type": "execute_result"
    }
   ],
   "source": [
    "def pesomax(lista: list, peso_max: int): \n",
    "    \"\"\"\n",
    "    Función que calcula el número de elementos máximos que podemos incluir sin superar el máximo.\n",
    "\n",
    "    Args:\n",
    "        lista (list): lista de los pesos de los elementos\n",
    "        peso_max (int): peso máximo que soporta la mochila\n",
    "    \n",
    "    Returns:\n",
    "        i+1 (int): número de elementos máximos que se pueden llevar\n",
    "    \"\"\"\n",
    "    peso_actual = 0\n",
    "    lista = sorted(lista)\n",
    "    for i in range(len(lista)):\n",
    "        peso_actual += lista[i]\n",
    "        if peso_actual >= peso_max:\n",
    "            i = i-1 # Se ha pasado, quitamos 1\n",
    "            break\n",
    "    return i+1 # Como empieza de 0 añadimos 1\n",
    "\n",
    "pesomax([1,29,16],179)\n",
    "pesomax([23,98,109],100)\n"
   ]
  },
  {
   "cell_type": "markdown",
   "metadata": {},
   "source": [
    "## Ronda 6"
   ]
  },
  {
   "cell_type": "code",
   "execution_count": 158,
   "metadata": {},
   "outputs": [
    {
     "data": {
      "text/plain": [
       "3"
      ]
     },
     "execution_count": 158,
     "metadata": {},
     "output_type": "execute_result"
    }
   ],
   "source": [
    "## Ronda 6\n",
    "def missing(lista):\n",
    "    lista = sorted(lista)\n",
    "    for i in range(len(lista)):\n",
    "        if lista[i+1] != lista[i]+1:\n",
    "            return lista[i]+1\n",
    "\n",
    "missing([5,4,2,1])"
   ]
  },
  {
   "cell_type": "code",
   "execution_count": 193,
   "metadata": {},
   "outputs": [
    {
     "data": {
      "text/plain": [
       "3"
      ]
     },
     "execution_count": 193,
     "metadata": {},
     "output_type": "execute_result"
    }
   ],
   "source": [
    "def missing2(lista): # Otro método para el problema\n",
    "    lista = sorted(lista)\n",
    "    lista_bien = [x for x in range(min(lista),max(lista)+1)]\n",
    "    for i in lista_bien:\n",
    "        if i not in lista:\n",
    "            return(i)\n",
    "\n",
    "missing2([5,4,2,1])"
   ]
  },
  {
   "cell_type": "markdown",
   "metadata": {},
   "source": [
    "## Ronda 7"
   ]
  },
  {
   "cell_type": "code",
   "execution_count": 191,
   "metadata": {},
   "outputs": [
    {
     "name": "stdout",
     "output_type": "stream",
     "text": [
      "1394 se escribe:  Mil trescientos noventa y cuatro\n"
     ]
    }
   ],
   "source": [
    "import random\n",
    "\n",
    "def numeros_a_palabras(numero):\n",
    "    if numero > 9999 or numero < 0:\n",
    "        return 'Introduzca un numero entre 0 y 99999'\n",
    "    if numero == 0:\n",
    "        return 'Cero'\n",
    "    \n",
    "    en_palabras = ''\n",
    "    \n",
    "    unidades =['', 'uno','dos', 'tres', 'cuatro', 'cinco', 'seis', 'siete', 'ocho', 'nueve']\n",
    "    decenas = ['', 'dieci', 'veinti', 'treinta y ', 'cuarenta y ', 'cincuenta y ', 'sesenta y ', 'setenta y ', 'ochenta y ', 'noventa y ']\n",
    "    centenas = ['', 'ciento', 'doscientos', 'trescientos', 'cuatrocientos', 'quinientos', 'seiscientos', 'setecientos', 'ochocientos', 'novecientos']\n",
    "    unidades_mil =['', 'mil','dos mil', 'tres mil', 'cuatro mil', 'cinco mil', 'seis mil', 'siete mil', 'ocho mil', 'nueve mil']\n",
    "    decenas_mil = decenas\n",
    "    \n",
    "    \n",
    "    numero = '0' *(5-len(str(numero))) + str(numero) #Creamos un numero de 5 digitos rellenando con 0 a la izq si hiciera falta\n",
    "    \n",
    "    unidad = int(numero[-1])\n",
    "    decena = int(numero[-2])\n",
    "    centena = int(numero[-3])\n",
    "    unidad_mil = int(numero[-4])\n",
    "    decena_mil = int(numero[-5])\n",
    "\n",
    "        # Strip saca espacio en blanco al tener menos digitos\n",
    "    \n",
    "    en_palabras = '{} {} {}{}'.format(unidades_mil[unidad_mil], centenas[centena], decenas[decena], unidades[unidad]).strip()\n",
    "    \n",
    "    if len(numero) == 5:\n",
    "        en_palabras = '{}{} {} {}{}'.format(decenas_mil[decena_mil], unidades_mil[unidad_mil], centenas[centena], decenas[decena], unidades[unidad]).strip()\n",
    "    \n",
    "    #casos especiales a cambiar:\n",
    "    \n",
    "    en_palabras = en_palabras.replace('dieciuno', 'once')\n",
    "    en_palabras = en_palabras.replace('diecidos', 'doce')\n",
    "    en_palabras = en_palabras.replace('diecitres', 'trece')\n",
    "    en_palabras = en_palabras.replace('diecicuatro', 'catorce')\n",
    "    en_palabras = en_palabras.replace('diecicinco', 'quince')\n",
    "    en_palabras = en_palabras.replace('uno millones', 'un millon')\n",
    "    \n",
    "    #cuando termina en:\n",
    "    if en_palabras.endswith('dieci'):\n",
    "        en_palabras = en_palabras.replace('dieci', 'diez')\n",
    "    elif en_palabras.endswith('veinti'):\n",
    "        en_palabras = en_palabras.replace('veinti', 'veinte')\n",
    "    elif en_palabras.endswith(' y'):\n",
    "        en_palabras = en_palabras[:-2]\n",
    "    elif en_palabras.endswith('ciento'):\n",
    "        en_palabras = en_palabras.replace('ciento', 'cien')\n",
    "    \n",
    "    return en_palabras.capitalize()\n",
    "\n",
    "\n",
    "\n",
    "valor = random.randint(0,9999)\n",
    "print(valor, \"se escribe: \", numeros_a_palabras(valor))\n",
    "    "
   ]
  }
 ],
 "metadata": {
  "kernelspec": {
   "display_name": "Python 3",
   "language": "python",
   "name": "python3"
  },
  "language_info": {
   "codemirror_mode": {
    "name": "ipython",
    "version": 3
   },
   "file_extension": ".py",
   "mimetype": "text/x-python",
   "name": "python",
   "nbconvert_exporter": "python",
   "pygments_lexer": "ipython3",
   "version": "3.11.4"
  }
 },
 "nbformat": 4,
 "nbformat_minor": 2
}
